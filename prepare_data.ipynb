{
 "cells": [
  {
   "cell_type": "code",
   "id": "initial_id",
   "metadata": {
    "collapsed": true,
    "ExecuteTime": {
     "end_time": "2025-09-21T08:58:12.360261Z",
     "start_time": "2025-09-21T08:58:12.351258Z"
    }
   },
   "source": [
    "import kagglehub\n",
    "import pandas as pd\n",
    "import pandera.pandas as pa\n",
    "\n",
    "import numpy as np\n",
    "from pathlib import Path\n"
   ],
   "outputs": [],
   "execution_count": 66
  },
  {
   "metadata": {
    "ExecuteTime": {
     "end_time": "2025-09-21T07:24:26.164246Z",
     "start_time": "2025-09-21T07:24:26.159320Z"
    }
   },
   "cell_type": "code",
   "source": "PATH_RAW: Path = Path('./assets/raw')\n",
   "id": "b9b0c9427c616e27",
   "outputs": [],
   "execution_count": 2
  },
  {
   "metadata": {
    "ExecuteTime": {
     "end_time": "2025-09-20T11:03:55.165604Z",
     "start_time": "2025-09-20T11:03:55.158897Z"
    }
   },
   "cell_type": "code",
   "source": [
    "# # Download latest version\n",
    "# path = kagglehub.dataset_download(\"paultimothymooney/stock-market-data\")\n",
    "#\n",
    "# print(\"Path to dataset files:\", path)"
   ],
   "id": "80e1af9d69a99e63",
   "outputs": [],
   "execution_count": 3
  },
  {
   "metadata": {
    "ExecuteTime": {
     "end_time": "2025-09-21T07:24:28.899361Z",
     "start_time": "2025-09-21T07:24:28.894407Z"
    }
   },
   "cell_type": "code",
   "source": "path = '/home/lipov/.cache/kagglehub/datasets/paultimothymooney/stock-market-data/versions/74'",
   "id": "3fd51de424f19993",
   "outputs": [],
   "execution_count": 3
  },
  {
   "metadata": {
    "ExecuteTime": {
     "end_time": "2025-09-21T07:24:30.889889Z",
     "start_time": "2025-09-21T07:24:29.533200Z"
    }
   },
   "cell_type": "code",
   "source": "!ls /home/lipov/.cache/kagglehub/datasets/paultimothymooney/stock-market-data/versions/74/stock_market_data/sp500/csv",
   "id": "9da1c2841dc5822",
   "outputs": [
    {
     "name": "stdout",
     "output_type": "stream",
     "text": [
      "AAL.csv    BSHI.csv   ED.csv\t HPQ.csv    MCHP.csv   PH.csv\t  TIME.csv\r\n",
      "AAP.csv    BSX.csv    EFX.csv\t HRB.csv    MCK.csv    PHM.csv\t  TJX.csv\r\n",
      "AAPL.csv   BWA.csv    EIX.csv\t HRL.csv    MCO.csv    PKG.csv\t  TMO.csv\r\n",
      "ABBV.csv   BXP.csv    EL.csv\t HSIC.csv   MDLZ.csv   PKI.csv\t  TMUS.csv\r\n",
      "ABC.csv    CAG.csv    EMN.csv\t HST.csv    MDT.csv    PLD.csv\t  TRAUF.csv\r\n",
      "ABMD.csv   CAH.csv    EMR.csv\t HSY.csv    MET.csv    PM.csv\t  TROW.csv\r\n",
      "ABT.csv    CAT.csv    ENS.csv\t HTLF.csv   MGM.csv    PNR.csv\t  TRV.csv\r\n",
      "ACN.csv    CB.csv     EOG.csv\t HUM.csv    MHK.csv    PNW.csv\t  TSCO.csv\r\n",
      "A.csv\t   CCI.csv    EQIX.csv\t IBM.csv    MKTX.csv   PNWRF.csv  TSN.csv\r\n",
      "ADI.csv    C.csv      EQR.csv\t ICE.csv    MLM.csv    PPG.csv\t  TTWO.csv\r\n",
      "ADM.csv    CDE.csv    ES.csv\t IDXX.csv   MMC.csv    PRU.csv\t  TW.csv\r\n",
      "ADP.csv    CDNS.csv   ESS.csv\t IEX.csv    MMM.csv    PSX.csv\t  TWTR.csv\r\n",
      "ADSK.csv   CF.csv     EW.csv\t IFF.csv    MNST.csv   PVH.csv\t  TXN.csv\r\n",
      "AEE.csv    CFG.csv    EXR.csv\t ILMN.csv   MO.csv     PWR.csv\t  TXT.csv\r\n",
      "AEP.csv    CHD.csv    FANG.csv\t INTH.csv   MOS.csv    PXD.csv\t  TYL.csv\r\n",
      "AIZ.csv    CHRW.csv   FAST.csv\t INTU.csv   MPC.csv    QRVO.csv   UA.csv\r\n",
      "AJG.csv    CHTR.csv   FBHS.csv\t IP.csv     MRCR.csv   RCL.csv\t  UAL.csv\r\n",
      "AKAM.csv   CINF.csv   F.csv\t IPGP.csv   MRK.csv    RE.csv\t  UDR.csv\r\n",
      "ALB.csv    CL.csv     FCX.csv\t IR.csv     MRO.csv    REG.csv\t  UEEC.csv\r\n",
      "ALGN.csv   CLX.csv    FDX.csv\t IRM.csv    MSCI.csv   REGN.csv   UHS.csv\r\n",
      "ALK.csv    CME.csv    FE.csv\t ISRG.csv   MSFT.csv   RF.csv\t  ULTA.csv\r\n",
      "ALLE.csv   CMG.csv    FFIV.csv\t IT.csv     MSI.csv    RHI.csv\t  UNM.csv\r\n",
      "ALTR.csv   CMI.csv    FIS.csv\t ITW.csv    MS-PF.csv  RIBT.csv   UNP.csv\r\n",
      "AMAT.csv   CNC.csv    FISV.csv\t IVZ.csv    MU.csv     RJF.csv\t  UPS.csv\r\n",
      "AMD.csv    CNP.csv    FITB.csv\t JBHT.csv   NCLH.csv   RL.csv\t  URI.csv\r\n",
      "AME.csv    CNWT.csv   FLS.csv\t JCI.csv    NCTKF.csv  RLI.csv\t  USB.csv\r\n",
      "AMGN.csv   COO.csv    FLT.csv\t JKHY.csv   NDAQ.csv   RMD.csv\t  V.csv\r\n",
      "AMP.csv    COP.csv    FMBM.csv\t JNJ.csv    NEE.csv    ROK.csv\t  VFC.csv\r\n",
      "AMT.csv    COST.csv   FMC.csv\t JNPR.csv   NEOG.csv   ROL.csv\t  VMC.csv\r\n",
      "AMZN.csv   COTY.csv   FN.csv\t JPM.csv    NFLX.csv   ROP.csv\t  VRSK.csv\r\n",
      "ANET.csv   COWN.csv   FPLPF.csv  KACPF.csv  NI.csv     ROST.csv   VRSN.csv\r\n",
      "AON.csv    CPB.csv    FRC.csv\t K.csv\t    NLSN.csv   RSG.csv\t  VTR.csv\r\n",
      "AOS.csv    CPICQ.csv  FRMC.csv\t KEY.csv    NMHLY.csv  RSNHF.csv  VZ.csv\r\n",
      "APA.csv    CPRT.csv   FRT.csv\t KEYS.csv   NOC.csv    RXMD.csv   WAT.csv\r\n",
      "APD.csv    CRM.csv    FTI.csv\t KGNR.csv   NOK.csv    SBUX.csv   WBA.csv\r\n",
      "APH.csv    CSCO.csv   GD.csv\t KHC.csv    NOV.csv    SCHW.csv   WDC.csv\r\n",
      "ARE.csv    CTAS.csv   GE.csv\t KIM.csv    NOW.csv    SEE.csv\t  WEC.csv\r\n",
      "ATVI.csv   CTQ.csv    GGG.csv\t KMB.csv    NOXL.csv   SEGXF.csv  WHR.csv\r\n",
      "AVB.csv    CTSH.csv   GILD.csv\t KMX.csv    NRG.csv    SHW.csv\t  WMB.csv\r\n",
      "AVY.csv    CUK.csv    GIS.csv\t KO.csv     NSC.csv    SIVB.csv   WM.csv\r\n",
      "AWK.csv    DAL.csv    GM.csv\t KR.csv     NTAP.csv   SLB.csv\t  WRB.csv\r\n",
      "AXP.csv    D.csv      GOOG.csv\t KSS.csv    NTRA.csv   SLG.csv\t  WRK.csv\r\n",
      "AZO.csv    DE.csv     GPC.csv\t LBTYA.csv  NTRR.csv   SNPS.csv   WSPOF.csv\r\n",
      "BAC.csv    DFS.csv    GPN.csv\t LDOS.csv   NTRS.csv   SO.csv\t  WST.csv\r\n",
      "BA.csv\t   DG.csv     GRMN.csv\t LEG.csv    NVR.csv    SONC.csv   WU.csv\r\n",
      "BAX.csv    DGX.csv    GS-PJ.csv  LH.csv     NVRO.csv   SPG.csv\t  WY.csv\r\n",
      "BBY.csv    DHI.csv    GWW.csv\t LKQ.csv    NWL.csv    SRE.csv\t  WYNN.csv\r\n",
      "BDX.csv    DIS.csv    HAL.csv\t LMT.csv    O.csv      SRG.csv\t  XEL.csv\r\n",
      "BEN.csv    DLTR.csv   HAS.csv\t LNC.csv    ODFL.csv   STT.csv\t  XLEFF.csv\r\n",
      "BF-A.csv   DOV.csv    HBAN.csv\t LNT.csv    OKE.csv    STX.csv\t  XOM.csv\r\n",
      "BHI.csv    DPZ.csv    HBI.csv\t LOW.csv    OMC.csv    STZ-B.csv  XYL.csv\r\n",
      "BIIB.csv   DRE.csv    HCA.csv\t LRCX.csv   ORLY.csv   SWK.csv\t  YUM.csv\r\n",
      "BIO.csv    DRI.csv    HD.csv\t LUV.csv    OXY.csv    SWKS.csv   ZBH.csv\r\n",
      "BK.csv\t   DTE.csv    HES.csv\t LVS.csv    PAYX.csv   SYF.csv\t  ZION.csv\r\n",
      "BLK.csv    DVA.csv    HII.csv\t LYB.csv    PCAR.csv   SYK.csv\t  ZTS.csv\r\n",
      "BMRA.csv   DXCM.csv   HLT.csv\t LYV.csv    PEG.csv    TAP.csv\r\n",
      "BMY.csv    EA.csv     HOLX.csv\t MAA.csv    PEP.csv    T.csv\r\n",
      "BR.csv\t   EBAY.csv   HON.csv\t MAR.csv    PFE.csv    TCYSF.csv\r\n",
      "BRK-A.csv  ECL.csv    HPE.csv\t MCD.csv    PG.csv     TEL.csv\r\n"
     ]
    }
   ],
   "execution_count": 4
  },
  {
   "metadata": {
    "ExecuteTime": {
     "end_time": "2025-09-21T09:36:37.921082Z",
     "start_time": "2025-09-21T09:36:37.914228Z"
    }
   },
   "cell_type": "code",
   "source": [
    "from pathlib import Path\n",
    "\n",
    "sp500_path = Path(path + '/stock_market_data/sp500/csv')\n",
    "sp500_path"
   ],
   "id": "2300e6313659cd38",
   "outputs": [
    {
     "data": {
      "text/plain": [
       "PosixPath('/home/lipov/.cache/kagglehub/datasets/paultimothymooney/stock-market-data/versions/74/stock_market_data/sp500/csv')"
      ]
     },
     "execution_count": 80,
     "metadata": {},
     "output_type": "execute_result"
    }
   ],
   "execution_count": 80
  },
  {
   "metadata": {
    "ExecuteTime": {
     "end_time": "2025-09-21T09:36:39.135272Z",
     "start_time": "2025-09-21T09:36:39.096345Z"
    }
   },
   "cell_type": "code",
   "source": "df_goog = pd.read_csv(sp500_path / 'GOOG.csv', parse_dates=['Date'], index_col='Date', usecols=['Date', 'Close'], dayfirst=True)",
   "id": "ac911eebbe1cac09",
   "outputs": [],
   "execution_count": 81
  },
  {
   "metadata": {
    "ExecuteTime": {
     "end_time": "2025-09-21T09:36:40.643771Z",
     "start_time": "2025-09-21T09:36:40.635148Z"
    }
   },
   "cell_type": "code",
   "source": "df_goog.head(3)",
   "id": "7e29463d1ec48ebd",
   "outputs": [
    {
     "data": {
      "text/plain": [
       "               Close\n",
       "Date                \n",
       "2004-08-19  2.499133\n",
       "2004-08-20  2.697639\n",
       "2004-08-23  2.724787"
      ],
      "text/html": [
       "<div>\n",
       "<style scoped>\n",
       "    .dataframe tbody tr th:only-of-type {\n",
       "        vertical-align: middle;\n",
       "    }\n",
       "\n",
       "    .dataframe tbody tr th {\n",
       "        vertical-align: top;\n",
       "    }\n",
       "\n",
       "    .dataframe thead th {\n",
       "        text-align: right;\n",
       "    }\n",
       "</style>\n",
       "<table border=\"1\" class=\"dataframe\">\n",
       "  <thead>\n",
       "    <tr style=\"text-align: right;\">\n",
       "      <th></th>\n",
       "      <th>Close</th>\n",
       "    </tr>\n",
       "    <tr>\n",
       "      <th>Date</th>\n",
       "      <th></th>\n",
       "    </tr>\n",
       "  </thead>\n",
       "  <tbody>\n",
       "    <tr>\n",
       "      <th>2004-08-19</th>\n",
       "      <td>2.499133</td>\n",
       "    </tr>\n",
       "    <tr>\n",
       "      <th>2004-08-20</th>\n",
       "      <td>2.697639</td>\n",
       "    </tr>\n",
       "    <tr>\n",
       "      <th>2004-08-23</th>\n",
       "      <td>2.724787</td>\n",
       "    </tr>\n",
       "  </tbody>\n",
       "</table>\n",
       "</div>"
      ]
     },
     "execution_count": 82,
     "metadata": {},
     "output_type": "execute_result"
    }
   ],
   "execution_count": 82
  },
  {
   "metadata": {
    "ExecuteTime": {
     "end_time": "2025-09-21T09:36:42.538629Z",
     "start_time": "2025-09-21T09:36:42.524888Z"
    }
   },
   "cell_type": "code",
   "source": "df_goog['Close'].pct_change()",
   "id": "9209c262e009502b",
   "outputs": [
    {
     "data": {
      "text/plain": [
       "Date\n",
       "2004-08-19         NaN\n",
       "2004-08-20    0.079430\n",
       "2004-08-23    0.010064\n",
       "2004-08-24   -0.041408\n",
       "2004-08-25    0.010775\n",
       "                ...   \n",
       "2022-12-06   -0.025633\n",
       "2022-12-07   -0.022197\n",
       "2022-12-08   -0.012612\n",
       "2022-12-09   -0.009367\n",
       "2022-12-12   -0.006393\n",
       "Name: Close, Length: 4612, dtype: float64"
      ]
     },
     "execution_count": 83,
     "metadata": {},
     "output_type": "execute_result"
    }
   ],
   "execution_count": 83
  },
  {
   "metadata": {
    "ExecuteTime": {
     "end_time": "2025-09-21T09:36:45.052616Z",
     "start_time": "2025-09-21T09:36:45.036672Z"
    }
   },
   "cell_type": "code",
   "source": [
    "df_goog['log_return'] = np.log(df_goog[\"Close\"] / df_goog[\"Close\"].shift(1))\n",
    "df_goog.head(3)"
   ],
   "id": "e0615230c66aa3ad",
   "outputs": [
    {
     "data": {
      "text/plain": [
       "               Close  log_return\n",
       "Date                            \n",
       "2004-08-19  2.499133         NaN\n",
       "2004-08-20  2.697639    0.076433\n",
       "2004-08-23  2.724787    0.010013"
      ],
      "text/html": [
       "<div>\n",
       "<style scoped>\n",
       "    .dataframe tbody tr th:only-of-type {\n",
       "        vertical-align: middle;\n",
       "    }\n",
       "\n",
       "    .dataframe tbody tr th {\n",
       "        vertical-align: top;\n",
       "    }\n",
       "\n",
       "    .dataframe thead th {\n",
       "        text-align: right;\n",
       "    }\n",
       "</style>\n",
       "<table border=\"1\" class=\"dataframe\">\n",
       "  <thead>\n",
       "    <tr style=\"text-align: right;\">\n",
       "      <th></th>\n",
       "      <th>Close</th>\n",
       "      <th>log_return</th>\n",
       "    </tr>\n",
       "    <tr>\n",
       "      <th>Date</th>\n",
       "      <th></th>\n",
       "      <th></th>\n",
       "    </tr>\n",
       "  </thead>\n",
       "  <tbody>\n",
       "    <tr>\n",
       "      <th>2004-08-19</th>\n",
       "      <td>2.499133</td>\n",
       "      <td>NaN</td>\n",
       "    </tr>\n",
       "    <tr>\n",
       "      <th>2004-08-20</th>\n",
       "      <td>2.697639</td>\n",
       "      <td>0.076433</td>\n",
       "    </tr>\n",
       "    <tr>\n",
       "      <th>2004-08-23</th>\n",
       "      <td>2.724787</td>\n",
       "      <td>0.010013</td>\n",
       "    </tr>\n",
       "  </tbody>\n",
       "</table>\n",
       "</div>"
      ]
     },
     "execution_count": 84,
     "metadata": {},
     "output_type": "execute_result"
    }
   ],
   "execution_count": 84
  },
  {
   "metadata": {
    "ExecuteTime": {
     "end_time": "2025-09-21T09:36:50.744692Z",
     "start_time": "2025-09-21T09:36:50.738384Z"
    }
   },
   "cell_type": "code",
   "source": "df_goog = df_goog.drop(columns=['Close'])",
   "id": "938790cb65ab9ce",
   "outputs": [],
   "execution_count": 85
  },
  {
   "metadata": {
    "ExecuteTime": {
     "end_time": "2025-09-21T09:36:51.534818Z",
     "start_time": "2025-09-21T09:36:51.520208Z"
    }
   },
   "cell_type": "code",
   "source": [
    "df_goog = df_goog.dropna()\n",
    "df_goog.head(2)"
   ],
   "id": "d60bfa6e13aaf830",
   "outputs": [
    {
     "data": {
      "text/plain": [
       "            log_return\n",
       "Date                  \n",
       "2004-08-20    0.076433\n",
       "2004-08-23    0.010013"
      ],
      "text/html": [
       "<div>\n",
       "<style scoped>\n",
       "    .dataframe tbody tr th:only-of-type {\n",
       "        vertical-align: middle;\n",
       "    }\n",
       "\n",
       "    .dataframe tbody tr th {\n",
       "        vertical-align: top;\n",
       "    }\n",
       "\n",
       "    .dataframe thead th {\n",
       "        text-align: right;\n",
       "    }\n",
       "</style>\n",
       "<table border=\"1\" class=\"dataframe\">\n",
       "  <thead>\n",
       "    <tr style=\"text-align: right;\">\n",
       "      <th></th>\n",
       "      <th>log_return</th>\n",
       "    </tr>\n",
       "    <tr>\n",
       "      <th>Date</th>\n",
       "      <th></th>\n",
       "    </tr>\n",
       "  </thead>\n",
       "  <tbody>\n",
       "    <tr>\n",
       "      <th>2004-08-20</th>\n",
       "      <td>0.076433</td>\n",
       "    </tr>\n",
       "    <tr>\n",
       "      <th>2004-08-23</th>\n",
       "      <td>0.010013</td>\n",
       "    </tr>\n",
       "  </tbody>\n",
       "</table>\n",
       "</div>"
      ]
     },
     "execution_count": 86,
     "metadata": {},
     "output_type": "execute_result"
    }
   ],
   "execution_count": 86
  },
  {
   "metadata": {
    "ExecuteTime": {
     "end_time": "2025-09-21T09:40:21.241037Z",
     "start_time": "2025-09-21T09:40:21.231853Z"
    }
   },
   "cell_type": "code",
   "source": "df_goog.to_parquet(PATH_RAW / 'goog_return.parquet', index=True)",
   "id": "205a270901e3df",
   "outputs": [],
   "execution_count": 93
  },
  {
   "metadata": {
    "ExecuteTime": {
     "end_time": "2025-09-21T09:36:53.204902Z",
     "start_time": "2025-09-21T09:36:53.194908Z"
    }
   },
   "cell_type": "code",
   "source": "df_goog.loc['2021'].to_parquet(PATH_RAW / 'goog_return_2021.parquet', index=True)",
   "id": "14d33bffc9c25d15",
   "outputs": [],
   "execution_count": 87
  },
  {
   "metadata": {
    "ExecuteTime": {
     "end_time": "2025-09-21T09:36:54.181208Z",
     "start_time": "2025-09-21T09:36:54.172155Z"
    }
   },
   "cell_type": "code",
   "source": "csv_files = list(sp500_path.glob('*.csv'))",
   "id": "3e54895947794b61",
   "outputs": [],
   "execution_count": 88
  },
  {
   "metadata": {
    "ExecuteTime": {
     "end_time": "2025-09-21T09:36:55.059809Z",
     "start_time": "2025-09-21T09:36:55.048688Z"
    }
   },
   "cell_type": "code",
   "source": "all_returns = []",
   "id": "261e437c8189816e",
   "outputs": [],
   "execution_count": 89
  },
  {
   "metadata": {
    "ExecuteTime": {
     "end_time": "2025-09-21T09:36:59.042083Z",
     "start_time": "2025-09-21T09:36:59.038009Z"
    }
   },
   "cell_type": "code",
   "source": "not_in_2021 = []",
   "id": "6212e2bc80d46f58",
   "outputs": [],
   "execution_count": 90
  },
  {
   "metadata": {
    "ExecuteTime": {
     "end_time": "2025-09-21T09:37:17.257851Z",
     "start_time": "2025-09-21T09:37:02.699431Z"
    }
   },
   "cell_type": "code",
   "source": [
    "for file in csv_files:\n",
    "    ticker = file.stem\n",
    "\n",
    "    df = pd.read_csv(\n",
    "        file,\n",
    "        usecols=['Date', 'Close'],\n",
    "        parse_dates=['Date'],\n",
    "        index_col='Date',\n",
    "        dayfirst=True\n",
    "    ).sort_index()\n",
    "\n",
    "    df[ticker] = np.log(df['Close'] / df['Close'].shift(1))\n",
    "\n",
    "    df = df[ticker]\n",
    "\n",
    "    try:\n",
    "        all_returns.append(df.loc['2021'])\n",
    "    except KeyError:\n",
    "        not_in_2021.append(ticker)"
   ],
   "id": "30736c41f948880e",
   "outputs": [],
   "execution_count": 91
  },
  {
   "metadata": {
    "ExecuteTime": {
     "end_time": "2025-09-21T09:37:50.944750Z",
     "start_time": "2025-09-21T09:37:50.936991Z"
    }
   },
   "cell_type": "code",
   "source": "not_in_2021",
   "id": "a575849bd6e26ebe",
   "outputs": [
    {
     "data": {
      "text/plain": [
       "['TIME']"
      ]
     },
     "execution_count": 92,
     "metadata": {},
     "output_type": "execute_result"
    }
   ],
   "execution_count": 92
  },
  {
   "metadata": {
    "ExecuteTime": {
     "end_time": "2025-09-21T08:07:49.757208Z",
     "start_time": "2025-09-21T08:07:49.754900Z"
    }
   },
   "cell_type": "code",
   "source": "",
   "id": "7e53d5c155a29373",
   "outputs": [],
   "execution_count": null
  },
  {
   "metadata": {
    "ExecuteTime": {
     "end_time": "2025-09-21T08:07:51.203592Z",
     "start_time": "2025-09-21T08:07:51.125367Z"
    }
   },
   "cell_type": "code",
   "source": [
    "df_returns = pd.concat(all_returns, axis=1).dropna(how='all')\n",
    "df_returns.shape"
   ],
   "id": "a584fb978b4e2203",
   "outputs": [
    {
     "data": {
      "text/plain": [
       "(252, 408)"
      ]
     },
     "execution_count": 51,
     "metadata": {},
     "output_type": "execute_result"
    }
   ],
   "execution_count": 51
  },
  {
   "metadata": {
    "ExecuteTime": {
     "end_time": "2025-09-21T08:07:52.178457Z",
     "start_time": "2025-09-21T08:07:52.170478Z"
    }
   },
   "cell_type": "code",
   "source": "df_returns.shape",
   "id": "52b11ca485395168",
   "outputs": [
    {
     "data": {
      "text/plain": [
       "(252, 408)"
      ]
     },
     "execution_count": 52,
     "metadata": {},
     "output_type": "execute_result"
    }
   ],
   "execution_count": 52
  },
  {
   "metadata": {
    "ExecuteTime": {
     "end_time": "2025-09-21T07:35:53.677517Z",
     "start_time": "2025-09-21T07:35:53.664459Z"
    }
   },
   "cell_type": "code",
   "source": "df_goog.head()",
   "id": "2b0960a1de8fa7c",
   "outputs": [
    {
     "data": {
      "text/plain": [
       "            log_return\n",
       "Date                  \n",
       "2004-08-20    0.076433\n",
       "2004-08-23    0.010013\n",
       "2004-08-24   -0.042289\n",
       "2004-08-25    0.010717\n",
       "2004-08-26    0.017859"
      ],
      "text/html": [
       "<div>\n",
       "<style scoped>\n",
       "    .dataframe tbody tr th:only-of-type {\n",
       "        vertical-align: middle;\n",
       "    }\n",
       "\n",
       "    .dataframe tbody tr th {\n",
       "        vertical-align: top;\n",
       "    }\n",
       "\n",
       "    .dataframe thead th {\n",
       "        text-align: right;\n",
       "    }\n",
       "</style>\n",
       "<table border=\"1\" class=\"dataframe\">\n",
       "  <thead>\n",
       "    <tr style=\"text-align: right;\">\n",
       "      <th></th>\n",
       "      <th>log_return</th>\n",
       "    </tr>\n",
       "    <tr>\n",
       "      <th>Date</th>\n",
       "      <th></th>\n",
       "    </tr>\n",
       "  </thead>\n",
       "  <tbody>\n",
       "    <tr>\n",
       "      <th>2004-08-20</th>\n",
       "      <td>0.076433</td>\n",
       "    </tr>\n",
       "    <tr>\n",
       "      <th>2004-08-23</th>\n",
       "      <td>0.010013</td>\n",
       "    </tr>\n",
       "    <tr>\n",
       "      <th>2004-08-24</th>\n",
       "      <td>-0.042289</td>\n",
       "    </tr>\n",
       "    <tr>\n",
       "      <th>2004-08-25</th>\n",
       "      <td>0.010717</td>\n",
       "    </tr>\n",
       "    <tr>\n",
       "      <th>2004-08-26</th>\n",
       "      <td>0.017859</td>\n",
       "    </tr>\n",
       "  </tbody>\n",
       "</table>\n",
       "</div>"
      ]
     },
     "execution_count": 18,
     "metadata": {},
     "output_type": "execute_result"
    }
   ],
   "execution_count": 18
  },
  {
   "metadata": {
    "ExecuteTime": {
     "end_time": "2025-09-21T07:36:20.305305Z",
     "start_time": "2025-09-21T07:36:20.286386Z"
    }
   },
   "cell_type": "code",
   "source": "df_goog.tail()",
   "id": "16b66af1a58704bc",
   "outputs": [
    {
     "data": {
      "text/plain": [
       "            log_return\n",
       "Date                  \n",
       "2022-12-06   -0.025968\n",
       "2022-12-07   -0.022447\n",
       "2022-12-08   -0.012692\n",
       "2022-12-09   -0.009411\n",
       "2022-12-12   -0.006414"
      ],
      "text/html": [
       "<div>\n",
       "<style scoped>\n",
       "    .dataframe tbody tr th:only-of-type {\n",
       "        vertical-align: middle;\n",
       "    }\n",
       "\n",
       "    .dataframe tbody tr th {\n",
       "        vertical-align: top;\n",
       "    }\n",
       "\n",
       "    .dataframe thead th {\n",
       "        text-align: right;\n",
       "    }\n",
       "</style>\n",
       "<table border=\"1\" class=\"dataframe\">\n",
       "  <thead>\n",
       "    <tr style=\"text-align: right;\">\n",
       "      <th></th>\n",
       "      <th>log_return</th>\n",
       "    </tr>\n",
       "    <tr>\n",
       "      <th>Date</th>\n",
       "      <th></th>\n",
       "    </tr>\n",
       "  </thead>\n",
       "  <tbody>\n",
       "    <tr>\n",
       "      <th>2022-12-06</th>\n",
       "      <td>-0.025968</td>\n",
       "    </tr>\n",
       "    <tr>\n",
       "      <th>2022-12-07</th>\n",
       "      <td>-0.022447</td>\n",
       "    </tr>\n",
       "    <tr>\n",
       "      <th>2022-12-08</th>\n",
       "      <td>-0.012692</td>\n",
       "    </tr>\n",
       "    <tr>\n",
       "      <th>2022-12-09</th>\n",
       "      <td>-0.009411</td>\n",
       "    </tr>\n",
       "    <tr>\n",
       "      <th>2022-12-12</th>\n",
       "      <td>-0.006414</td>\n",
       "    </tr>\n",
       "  </tbody>\n",
       "</table>\n",
       "</div>"
      ]
     },
     "execution_count": 19,
     "metadata": {},
     "output_type": "execute_result"
    }
   ],
   "execution_count": 19
  },
  {
   "metadata": {
    "ExecuteTime": {
     "end_time": "2025-09-21T07:41:01.600671Z",
     "start_time": "2025-09-21T07:41:01.575845Z"
    }
   },
   "cell_type": "code",
   "source": "df_goog.loc['2020']",
   "id": "62255ce5bb07e1c3",
   "outputs": [
    {
     "data": {
      "text/plain": [
       "            log_return\n",
       "Date                  \n",
       "2020-01-02    0.022446\n",
       "2020-01-03   -0.004919\n",
       "2020-01-06    0.024358\n",
       "2020-01-07   -0.000624\n",
       "2020-01-08    0.007850\n",
       "...                ...\n",
       "2020-12-24    0.003728\n",
       "2020-12-28    0.021190\n",
       "2020-12-29   -0.009828\n",
       "2020-12-30   -0.010977\n",
       "2020-12-31    0.007080\n",
       "\n",
       "[253 rows x 1 columns]"
      ],
      "text/html": [
       "<div>\n",
       "<style scoped>\n",
       "    .dataframe tbody tr th:only-of-type {\n",
       "        vertical-align: middle;\n",
       "    }\n",
       "\n",
       "    .dataframe tbody tr th {\n",
       "        vertical-align: top;\n",
       "    }\n",
       "\n",
       "    .dataframe thead th {\n",
       "        text-align: right;\n",
       "    }\n",
       "</style>\n",
       "<table border=\"1\" class=\"dataframe\">\n",
       "  <thead>\n",
       "    <tr style=\"text-align: right;\">\n",
       "      <th></th>\n",
       "      <th>log_return</th>\n",
       "    </tr>\n",
       "    <tr>\n",
       "      <th>Date</th>\n",
       "      <th></th>\n",
       "    </tr>\n",
       "  </thead>\n",
       "  <tbody>\n",
       "    <tr>\n",
       "      <th>2020-01-02</th>\n",
       "      <td>0.022446</td>\n",
       "    </tr>\n",
       "    <tr>\n",
       "      <th>2020-01-03</th>\n",
       "      <td>-0.004919</td>\n",
       "    </tr>\n",
       "    <tr>\n",
       "      <th>2020-01-06</th>\n",
       "      <td>0.024358</td>\n",
       "    </tr>\n",
       "    <tr>\n",
       "      <th>2020-01-07</th>\n",
       "      <td>-0.000624</td>\n",
       "    </tr>\n",
       "    <tr>\n",
       "      <th>2020-01-08</th>\n",
       "      <td>0.007850</td>\n",
       "    </tr>\n",
       "    <tr>\n",
       "      <th>...</th>\n",
       "      <td>...</td>\n",
       "    </tr>\n",
       "    <tr>\n",
       "      <th>2020-12-24</th>\n",
       "      <td>0.003728</td>\n",
       "    </tr>\n",
       "    <tr>\n",
       "      <th>2020-12-28</th>\n",
       "      <td>0.021190</td>\n",
       "    </tr>\n",
       "    <tr>\n",
       "      <th>2020-12-29</th>\n",
       "      <td>-0.009828</td>\n",
       "    </tr>\n",
       "    <tr>\n",
       "      <th>2020-12-30</th>\n",
       "      <td>-0.010977</td>\n",
       "    </tr>\n",
       "    <tr>\n",
       "      <th>2020-12-31</th>\n",
       "      <td>0.007080</td>\n",
       "    </tr>\n",
       "  </tbody>\n",
       "</table>\n",
       "<p>253 rows × 1 columns</p>\n",
       "</div>"
      ]
     },
     "execution_count": 21,
     "metadata": {},
     "output_type": "execute_result"
    }
   ],
   "execution_count": 21
  },
  {
   "metadata": {
    "ExecuteTime": {
     "end_time": "2025-09-21T07:50:22.261487Z",
     "start_time": "2025-09-21T07:50:22.248683Z"
    }
   },
   "cell_type": "code",
   "source": "df_returns.loc['2021'].isna().sum()",
   "id": "1038a87c677c8a65",
   "outputs": [
    {
     "data": {
      "text/plain": [
       "BSHI    0\n",
       "JBHT    0\n",
       "EA      0\n",
       "LNT     0\n",
       "ALTR    0\n",
       "       ..\n",
       "AEE     0\n",
       "ES      0\n",
       "NCLH    0\n",
       "AMT     0\n",
       "DHI     0\n",
       "Length: 409, dtype: int64"
      ]
     },
     "execution_count": 24,
     "metadata": {},
     "output_type": "execute_result"
    }
   ],
   "execution_count": 24
  },
  {
   "metadata": {
    "ExecuteTime": {
     "end_time": "2025-09-21T08:22:08.451897Z",
     "start_time": "2025-09-21T08:22:08.443409Z"
    }
   },
   "cell_type": "code",
   "source": "df_index_2021 = pd.read_csv('./assets/raw/INDEX_US_S&P_US_SPX_2021.csv', parse_dates=['Date'], index_col='Date', usecols=['Date', 'Close'], thousands=',').sort_index()",
   "id": "5c64c6105efe0d8f",
   "outputs": [],
   "execution_count": 55
  },
  {
   "metadata": {
    "ExecuteTime": {
     "end_time": "2025-09-21T08:22:09.390118Z",
     "start_time": "2025-09-21T08:22:09.379826Z"
    }
   },
   "cell_type": "code",
   "source": "df_index_2021.head()",
   "id": "3004bc87d9f7c095",
   "outputs": [
    {
     "data": {
      "text/plain": [
       "              Close\n",
       "Date               \n",
       "2021-01-04  3700.65\n",
       "2021-01-05  3726.86\n",
       "2021-01-06  3748.14\n",
       "2021-01-07  3803.79\n",
       "2021-01-08  3824.68"
      ],
      "text/html": [
       "<div>\n",
       "<style scoped>\n",
       "    .dataframe tbody tr th:only-of-type {\n",
       "        vertical-align: middle;\n",
       "    }\n",
       "\n",
       "    .dataframe tbody tr th {\n",
       "        vertical-align: top;\n",
       "    }\n",
       "\n",
       "    .dataframe thead th {\n",
       "        text-align: right;\n",
       "    }\n",
       "</style>\n",
       "<table border=\"1\" class=\"dataframe\">\n",
       "  <thead>\n",
       "    <tr style=\"text-align: right;\">\n",
       "      <th></th>\n",
       "      <th>Close</th>\n",
       "    </tr>\n",
       "    <tr>\n",
       "      <th>Date</th>\n",
       "      <th></th>\n",
       "    </tr>\n",
       "  </thead>\n",
       "  <tbody>\n",
       "    <tr>\n",
       "      <th>2021-01-04</th>\n",
       "      <td>3700.65</td>\n",
       "    </tr>\n",
       "    <tr>\n",
       "      <th>2021-01-05</th>\n",
       "      <td>3726.86</td>\n",
       "    </tr>\n",
       "    <tr>\n",
       "      <th>2021-01-06</th>\n",
       "      <td>3748.14</td>\n",
       "    </tr>\n",
       "    <tr>\n",
       "      <th>2021-01-07</th>\n",
       "      <td>3803.79</td>\n",
       "    </tr>\n",
       "    <tr>\n",
       "      <th>2021-01-08</th>\n",
       "      <td>3824.68</td>\n",
       "    </tr>\n",
       "  </tbody>\n",
       "</table>\n",
       "</div>"
      ]
     },
     "execution_count": 56,
     "metadata": {},
     "output_type": "execute_result"
    }
   ],
   "execution_count": 56
  },
  {
   "metadata": {
    "ExecuteTime": {
     "end_time": "2025-09-21T08:22:57.635408Z",
     "start_time": "2025-09-21T08:22:57.629418Z"
    }
   },
   "cell_type": "code",
   "source": "df_index_2021['Close'].dtype",
   "id": "a1724c6162c96b7c",
   "outputs": [
    {
     "data": {
      "text/plain": [
       "dtype('float64')"
      ]
     },
     "execution_count": 58,
     "metadata": {},
     "output_type": "execute_result"
    }
   ],
   "execution_count": 58
  },
  {
   "metadata": {
    "ExecuteTime": {
     "end_time": "2025-09-21T08:24:20.473717Z",
     "start_time": "2025-09-21T08:24:20.467489Z"
    }
   },
   "cell_type": "code",
   "source": "df_index_2021['log_return'] = np.log(df_index_2021[\"Close\"] / df_index_2021[\"Close\"].shift(1))",
   "id": "c2bde7aa4f5494b9",
   "outputs": [],
   "execution_count": 59
  },
  {
   "metadata": {
    "ExecuteTime": {
     "end_time": "2025-09-21T08:26:32.754273Z",
     "start_time": "2025-09-21T08:26:32.746970Z"
    }
   },
   "cell_type": "code",
   "source": "df_index_2021 = df_index_2021.drop(columns=['Close']).dropna()",
   "id": "f532217686c48462",
   "outputs": [],
   "execution_count": 60
  },
  {
   "metadata": {
    "ExecuteTime": {
     "end_time": "2025-09-21T08:26:42.426687Z",
     "start_time": "2025-09-21T08:26:42.380321Z"
    }
   },
   "cell_type": "code",
   "source": "df_index_2021.head()",
   "id": "29eb9d4455459e",
   "outputs": [
    {
     "data": {
      "text/plain": [
       "            log_return\n",
       "Date                  \n",
       "2021-01-05    0.007058\n",
       "2021-01-06    0.005694\n",
       "2021-01-07    0.014738\n",
       "2021-01-08    0.005477\n",
       "2021-01-11   -0.006576"
      ],
      "text/html": [
       "<div>\n",
       "<style scoped>\n",
       "    .dataframe tbody tr th:only-of-type {\n",
       "        vertical-align: middle;\n",
       "    }\n",
       "\n",
       "    .dataframe tbody tr th {\n",
       "        vertical-align: top;\n",
       "    }\n",
       "\n",
       "    .dataframe thead th {\n",
       "        text-align: right;\n",
       "    }\n",
       "</style>\n",
       "<table border=\"1\" class=\"dataframe\">\n",
       "  <thead>\n",
       "    <tr style=\"text-align: right;\">\n",
       "      <th></th>\n",
       "      <th>log_return</th>\n",
       "    </tr>\n",
       "    <tr>\n",
       "      <th>Date</th>\n",
       "      <th></th>\n",
       "    </tr>\n",
       "  </thead>\n",
       "  <tbody>\n",
       "    <tr>\n",
       "      <th>2021-01-05</th>\n",
       "      <td>0.007058</td>\n",
       "    </tr>\n",
       "    <tr>\n",
       "      <th>2021-01-06</th>\n",
       "      <td>0.005694</td>\n",
       "    </tr>\n",
       "    <tr>\n",
       "      <th>2021-01-07</th>\n",
       "      <td>0.014738</td>\n",
       "    </tr>\n",
       "    <tr>\n",
       "      <th>2021-01-08</th>\n",
       "      <td>0.005477</td>\n",
       "    </tr>\n",
       "    <tr>\n",
       "      <th>2021-01-11</th>\n",
       "      <td>-0.006576</td>\n",
       "    </tr>\n",
       "  </tbody>\n",
       "</table>\n",
       "</div>"
      ]
     },
     "execution_count": 61,
     "metadata": {},
     "output_type": "execute_result"
    }
   ],
   "execution_count": 61
  },
  {
   "metadata": {
    "ExecuteTime": {
     "end_time": "2025-09-21T09:27:44.030630Z",
     "start_time": "2025-09-21T09:27:44.024431Z"
    }
   },
   "cell_type": "code",
   "source": [
    "schema_log_returns = pa.DataFrameSchema(\n",
    "    {\n",
    "        'log_return': pa.Column(\n",
    "            float,\n",
    "            checks=[\n",
    "                pa.Check.greater_than(-1),\n",
    "                pa.Check.less_than(1),\n",
    "            ],\n",
    "            nullable=False,\n",
    "        )\n",
    "    },\n",
    "    index=pa.Index(\n",
    "        pa.DateTime,\n",
    "        name='Date',\n",
    "        checks=[\n",
    "            pa.Check.in_range('2021-01-01', '2021-12-31'),\n",
    "            pa.Check(lambda idx: idx.is_monotonic_increasing, element_wise=False)\n",
    "        ]\n",
    "    ),\n",
    "    strict=True,\n",
    "    coerce=True,\n",
    "\n",
    ")"
   ],
   "id": "4595d87b76f9102",
   "outputs": [],
   "execution_count": 70
  },
  {
   "metadata": {
    "ExecuteTime": {
     "end_time": "2025-09-21T09:27:53.251687Z",
     "start_time": "2025-09-21T09:27:53.232955Z"
    }
   },
   "cell_type": "code",
   "source": "schema_log_returns.validate(df_index_2021)",
   "id": "fce94897a7df8112",
   "outputs": [
    {
     "data": {
      "text/plain": [
       "            log_return\n",
       "Date                  \n",
       "2021-01-05    0.007058\n",
       "2021-01-06    0.005694\n",
       "2021-01-07    0.014738\n",
       "2021-01-08    0.005477\n",
       "2021-01-11   -0.006576\n",
       "...                ...\n",
       "2021-12-27    0.013744\n",
       "2021-12-28   -0.001011\n",
       "2021-12-29    0.001401\n",
       "2021-12-30   -0.002994\n",
       "2021-12-31   -0.002630\n",
       "\n",
       "[251 rows x 1 columns]"
      ],
      "text/html": [
       "<div>\n",
       "<style scoped>\n",
       "    .dataframe tbody tr th:only-of-type {\n",
       "        vertical-align: middle;\n",
       "    }\n",
       "\n",
       "    .dataframe tbody tr th {\n",
       "        vertical-align: top;\n",
       "    }\n",
       "\n",
       "    .dataframe thead th {\n",
       "        text-align: right;\n",
       "    }\n",
       "</style>\n",
       "<table border=\"1\" class=\"dataframe\">\n",
       "  <thead>\n",
       "    <tr style=\"text-align: right;\">\n",
       "      <th></th>\n",
       "      <th>log_return</th>\n",
       "    </tr>\n",
       "    <tr>\n",
       "      <th>Date</th>\n",
       "      <th></th>\n",
       "    </tr>\n",
       "  </thead>\n",
       "  <tbody>\n",
       "    <tr>\n",
       "      <th>2021-01-05</th>\n",
       "      <td>0.007058</td>\n",
       "    </tr>\n",
       "    <tr>\n",
       "      <th>2021-01-06</th>\n",
       "      <td>0.005694</td>\n",
       "    </tr>\n",
       "    <tr>\n",
       "      <th>2021-01-07</th>\n",
       "      <td>0.014738</td>\n",
       "    </tr>\n",
       "    <tr>\n",
       "      <th>2021-01-08</th>\n",
       "      <td>0.005477</td>\n",
       "    </tr>\n",
       "    <tr>\n",
       "      <th>2021-01-11</th>\n",
       "      <td>-0.006576</td>\n",
       "    </tr>\n",
       "    <tr>\n",
       "      <th>...</th>\n",
       "      <td>...</td>\n",
       "    </tr>\n",
       "    <tr>\n",
       "      <th>2021-12-27</th>\n",
       "      <td>0.013744</td>\n",
       "    </tr>\n",
       "    <tr>\n",
       "      <th>2021-12-28</th>\n",
       "      <td>-0.001011</td>\n",
       "    </tr>\n",
       "    <tr>\n",
       "      <th>2021-12-29</th>\n",
       "      <td>0.001401</td>\n",
       "    </tr>\n",
       "    <tr>\n",
       "      <th>2021-12-30</th>\n",
       "      <td>-0.002994</td>\n",
       "    </tr>\n",
       "    <tr>\n",
       "      <th>2021-12-31</th>\n",
       "      <td>-0.002630</td>\n",
       "    </tr>\n",
       "  </tbody>\n",
       "</table>\n",
       "<p>251 rows × 1 columns</p>\n",
       "</div>"
      ]
     },
     "execution_count": 71,
     "metadata": {},
     "output_type": "execute_result"
    }
   ],
   "execution_count": 71
  },
  {
   "metadata": {
    "ExecuteTime": {
     "end_time": "2025-09-21T09:31:13.713857Z",
     "start_time": "2025-09-21T09:31:13.467517Z"
    }
   },
   "cell_type": "code",
   "source": "df_goog_2021 = pd.read_parquet('./assets/raw/goog_return_2021.parquet')",
   "id": "282e69552837a183",
   "outputs": [],
   "execution_count": 75
  },
  {
   "metadata": {
    "ExecuteTime": {
     "end_time": "2025-09-21T09:31:41.482826Z",
     "start_time": "2025-09-21T09:31:41.459266Z"
    }
   },
   "cell_type": "code",
   "source": "schema_log_returns.validate(df_goog_2021)",
   "id": "e1a42f52ee4b6303",
   "outputs": [
    {
     "data": {
      "text/plain": [
       "            log_return\n",
       "Date                  \n",
       "2021-01-04   -0.013586\n",
       "2021-01-05    0.007310\n",
       "2021-01-06   -0.003239\n",
       "2021-01-07    0.029504\n",
       "2021-01-08    0.011106\n",
       "...                ...\n",
       "2021-12-27    0.006243\n",
       "2021-12-28   -0.010974\n",
       "2021-12-29    0.000386\n",
       "2021-12-30   -0.003432\n",
       "2021-12-31   -0.009103\n",
       "\n",
       "[252 rows x 1 columns]"
      ],
      "text/html": [
       "<div>\n",
       "<style scoped>\n",
       "    .dataframe tbody tr th:only-of-type {\n",
       "        vertical-align: middle;\n",
       "    }\n",
       "\n",
       "    .dataframe tbody tr th {\n",
       "        vertical-align: top;\n",
       "    }\n",
       "\n",
       "    .dataframe thead th {\n",
       "        text-align: right;\n",
       "    }\n",
       "</style>\n",
       "<table border=\"1\" class=\"dataframe\">\n",
       "  <thead>\n",
       "    <tr style=\"text-align: right;\">\n",
       "      <th></th>\n",
       "      <th>log_return</th>\n",
       "    </tr>\n",
       "    <tr>\n",
       "      <th>Date</th>\n",
       "      <th></th>\n",
       "    </tr>\n",
       "  </thead>\n",
       "  <tbody>\n",
       "    <tr>\n",
       "      <th>2021-01-04</th>\n",
       "      <td>-0.013586</td>\n",
       "    </tr>\n",
       "    <tr>\n",
       "      <th>2021-01-05</th>\n",
       "      <td>0.007310</td>\n",
       "    </tr>\n",
       "    <tr>\n",
       "      <th>2021-01-06</th>\n",
       "      <td>-0.003239</td>\n",
       "    </tr>\n",
       "    <tr>\n",
       "      <th>2021-01-07</th>\n",
       "      <td>0.029504</td>\n",
       "    </tr>\n",
       "    <tr>\n",
       "      <th>2021-01-08</th>\n",
       "      <td>0.011106</td>\n",
       "    </tr>\n",
       "    <tr>\n",
       "      <th>...</th>\n",
       "      <td>...</td>\n",
       "    </tr>\n",
       "    <tr>\n",
       "      <th>2021-12-27</th>\n",
       "      <td>0.006243</td>\n",
       "    </tr>\n",
       "    <tr>\n",
       "      <th>2021-12-28</th>\n",
       "      <td>-0.010974</td>\n",
       "    </tr>\n",
       "    <tr>\n",
       "      <th>2021-12-29</th>\n",
       "      <td>0.000386</td>\n",
       "    </tr>\n",
       "    <tr>\n",
       "      <th>2021-12-30</th>\n",
       "      <td>-0.003432</td>\n",
       "    </tr>\n",
       "    <tr>\n",
       "      <th>2021-12-31</th>\n",
       "      <td>-0.009103</td>\n",
       "    </tr>\n",
       "  </tbody>\n",
       "</table>\n",
       "<p>252 rows × 1 columns</p>\n",
       "</div>"
      ]
     },
     "execution_count": 77,
     "metadata": {},
     "output_type": "execute_result"
    }
   ],
   "execution_count": 77
  },
  {
   "metadata": {
    "ExecuteTime": {
     "end_time": "2025-09-21T09:42:49.041389Z",
     "start_time": "2025-09-21T09:42:49.028885Z"
    }
   },
   "cell_type": "code",
   "source": "df_index_2021.to_parquet(PATH_RAW / 'sp500_returns_2021.parquet', index=True)",
   "id": "710151746445ea54",
   "outputs": [],
   "execution_count": 94
  },
  {
   "metadata": {},
   "cell_type": "code",
   "outputs": [],
   "execution_count": null,
   "source": "",
   "id": "34062d6d417606a0"
  }
 ],
 "metadata": {
  "kernelspec": {
   "display_name": "Python 3",
   "language": "python",
   "name": "python3"
  },
  "language_info": {
   "codemirror_mode": {
    "name": "ipython",
    "version": 2
   },
   "file_extension": ".py",
   "mimetype": "text/x-python",
   "name": "python",
   "nbconvert_exporter": "python",
   "pygments_lexer": "ipython2",
   "version": "2.7.6"
  }
 },
 "nbformat": 4,
 "nbformat_minor": 5
}
