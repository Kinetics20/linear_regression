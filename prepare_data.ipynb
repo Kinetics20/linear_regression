{
 "cells": [
  {
   "cell_type": "code",
   "id": "initial_id",
   "metadata": {
    "collapsed": true,
    "ExecuteTime": {
     "end_time": "2025-09-20T11:03:55.090474Z",
     "start_time": "2025-09-20T11:03:52.566186Z"
    }
   },
   "source": [
    "import kagglehub\n",
    "import pandas as pd\n",
    "\n",
    "import numpy as np\n",
    "from pathlib import Path"
   ],
   "outputs": [],
   "execution_count": 1
  },
  {
   "metadata": {
    "ExecuteTime": {
     "end_time": "2025-09-20T11:04:44.933916Z",
     "start_time": "2025-09-20T11:04:44.929102Z"
    }
   },
   "cell_type": "code",
   "source": "PATH_RAW: Path = Path('./assets/raw')\n",
   "id": "b9b0c9427c616e27",
   "outputs": [],
   "execution_count": 14
  },
  {
   "metadata": {
    "ExecuteTime": {
     "end_time": "2025-09-20T11:03:55.165604Z",
     "start_time": "2025-09-20T11:03:55.158897Z"
    }
   },
   "cell_type": "code",
   "source": [
    "# # Download latest version\n",
    "# path = kagglehub.dataset_download(\"paultimothymooney/stock-market-data\")\n",
    "#\n",
    "# print(\"Path to dataset files:\", path)"
   ],
   "id": "80e1af9d69a99e63",
   "outputs": [],
   "execution_count": 3
  },
  {
   "metadata": {
    "ExecuteTime": {
     "end_time": "2025-09-20T11:03:55.236196Z",
     "start_time": "2025-09-20T11:03:55.231178Z"
    }
   },
   "cell_type": "code",
   "source": "path = '/home/lipov/.cache/kagglehub/datasets/paultimothymooney/stock-market-data/versions/74'",
   "id": "3fd51de424f19993",
   "outputs": [],
   "execution_count": 4
  },
  {
   "metadata": {
    "ExecuteTime": {
     "end_time": "2025-09-20T11:03:56.738191Z",
     "start_time": "2025-09-20T11:03:55.292935Z"
    }
   },
   "cell_type": "code",
   "source": "!ls /home/lipov/.cache/kagglehub/datasets/paultimothymooney/stock-market-data/versions/74/stock_market_data/sp500/csv",
   "id": "9da1c2841dc5822",
   "outputs": [
    {
     "name": "stdout",
     "output_type": "stream",
     "text": [
      "AAL.csv    BSHI.csv   ED.csv\t HPQ.csv    MCHP.csv   PH.csv\t  TIME.csv\r\n",
      "AAP.csv    BSX.csv    EFX.csv\t HRB.csv    MCK.csv    PHM.csv\t  TJX.csv\r\n",
      "AAPL.csv   BWA.csv    EIX.csv\t HRL.csv    MCO.csv    PKG.csv\t  TMO.csv\r\n",
      "ABBV.csv   BXP.csv    EL.csv\t HSIC.csv   MDLZ.csv   PKI.csv\t  TMUS.csv\r\n",
      "ABC.csv    CAG.csv    EMN.csv\t HST.csv    MDT.csv    PLD.csv\t  TRAUF.csv\r\n",
      "ABMD.csv   CAH.csv    EMR.csv\t HSY.csv    MET.csv    PM.csv\t  TROW.csv\r\n",
      "ABT.csv    CAT.csv    ENS.csv\t HTLF.csv   MGM.csv    PNR.csv\t  TRV.csv\r\n",
      "ACN.csv    CB.csv     EOG.csv\t HUM.csv    MHK.csv    PNW.csv\t  TSCO.csv\r\n",
      "A.csv\t   CCI.csv    EQIX.csv\t IBM.csv    MKTX.csv   PNWRF.csv  TSN.csv\r\n",
      "ADI.csv    C.csv      EQR.csv\t ICE.csv    MLM.csv    PPG.csv\t  TTWO.csv\r\n",
      "ADM.csv    CDE.csv    ES.csv\t IDXX.csv   MMC.csv    PRU.csv\t  TW.csv\r\n",
      "ADP.csv    CDNS.csv   ESS.csv\t IEX.csv    MMM.csv    PSX.csv\t  TWTR.csv\r\n",
      "ADSK.csv   CF.csv     EW.csv\t IFF.csv    MNST.csv   PVH.csv\t  TXN.csv\r\n",
      "AEE.csv    CFG.csv    EXR.csv\t ILMN.csv   MO.csv     PWR.csv\t  TXT.csv\r\n",
      "AEP.csv    CHD.csv    FANG.csv\t INTH.csv   MOS.csv    PXD.csv\t  TYL.csv\r\n",
      "AIZ.csv    CHRW.csv   FAST.csv\t INTU.csv   MPC.csv    QRVO.csv   UA.csv\r\n",
      "AJG.csv    CHTR.csv   FBHS.csv\t IP.csv     MRCR.csv   RCL.csv\t  UAL.csv\r\n",
      "AKAM.csv   CINF.csv   F.csv\t IPGP.csv   MRK.csv    RE.csv\t  UDR.csv\r\n",
      "ALB.csv    CL.csv     FCX.csv\t IR.csv     MRO.csv    REG.csv\t  UEEC.csv\r\n",
      "ALGN.csv   CLX.csv    FDX.csv\t IRM.csv    MSCI.csv   REGN.csv   UHS.csv\r\n",
      "ALK.csv    CME.csv    FE.csv\t ISRG.csv   MSFT.csv   RF.csv\t  ULTA.csv\r\n",
      "ALLE.csv   CMG.csv    FFIV.csv\t IT.csv     MSI.csv    RHI.csv\t  UNM.csv\r\n",
      "ALTR.csv   CMI.csv    FIS.csv\t ITW.csv    MS-PF.csv  RIBT.csv   UNP.csv\r\n",
      "AMAT.csv   CNC.csv    FISV.csv\t IVZ.csv    MU.csv     RJF.csv\t  UPS.csv\r\n",
      "AMD.csv    CNP.csv    FITB.csv\t JBHT.csv   NCLH.csv   RL.csv\t  URI.csv\r\n",
      "AME.csv    CNWT.csv   FLS.csv\t JCI.csv    NCTKF.csv  RLI.csv\t  USB.csv\r\n",
      "AMGN.csv   COO.csv    FLT.csv\t JKHY.csv   NDAQ.csv   RMD.csv\t  V.csv\r\n",
      "AMP.csv    COP.csv    FMBM.csv\t JNJ.csv    NEE.csv    ROK.csv\t  VFC.csv\r\n",
      "AMT.csv    COST.csv   FMC.csv\t JNPR.csv   NEOG.csv   ROL.csv\t  VMC.csv\r\n",
      "AMZN.csv   COTY.csv   FN.csv\t JPM.csv    NFLX.csv   ROP.csv\t  VRSK.csv\r\n",
      "ANET.csv   COWN.csv   FPLPF.csv  KACPF.csv  NI.csv     ROST.csv   VRSN.csv\r\n",
      "AON.csv    CPB.csv    FRC.csv\t K.csv\t    NLSN.csv   RSG.csv\t  VTR.csv\r\n",
      "AOS.csv    CPICQ.csv  FRMC.csv\t KEY.csv    NMHLY.csv  RSNHF.csv  VZ.csv\r\n",
      "APA.csv    CPRT.csv   FRT.csv\t KEYS.csv   NOC.csv    RXMD.csv   WAT.csv\r\n",
      "APD.csv    CRM.csv    FTI.csv\t KGNR.csv   NOK.csv    SBUX.csv   WBA.csv\r\n",
      "APH.csv    CSCO.csv   GD.csv\t KHC.csv    NOV.csv    SCHW.csv   WDC.csv\r\n",
      "ARE.csv    CTAS.csv   GE.csv\t KIM.csv    NOW.csv    SEE.csv\t  WEC.csv\r\n",
      "ATVI.csv   CTQ.csv    GGG.csv\t KMB.csv    NOXL.csv   SEGXF.csv  WHR.csv\r\n",
      "AVB.csv    CTSH.csv   GILD.csv\t KMX.csv    NRG.csv    SHW.csv\t  WMB.csv\r\n",
      "AVY.csv    CUK.csv    GIS.csv\t KO.csv     NSC.csv    SIVB.csv   WM.csv\r\n",
      "AWK.csv    DAL.csv    GM.csv\t KR.csv     NTAP.csv   SLB.csv\t  WRB.csv\r\n",
      "AXP.csv    D.csv      GOOG.csv\t KSS.csv    NTRA.csv   SLG.csv\t  WRK.csv\r\n",
      "AZO.csv    DE.csv     GPC.csv\t LBTYA.csv  NTRR.csv   SNPS.csv   WSPOF.csv\r\n",
      "BAC.csv    DFS.csv    GPN.csv\t LDOS.csv   NTRS.csv   SO.csv\t  WST.csv\r\n",
      "BA.csv\t   DG.csv     GRMN.csv\t LEG.csv    NVR.csv    SONC.csv   WU.csv\r\n",
      "BAX.csv    DGX.csv    GS-PJ.csv  LH.csv     NVRO.csv   SPG.csv\t  WY.csv\r\n",
      "BBY.csv    DHI.csv    GWW.csv\t LKQ.csv    NWL.csv    SRE.csv\t  WYNN.csv\r\n",
      "BDX.csv    DIS.csv    HAL.csv\t LMT.csv    O.csv      SRG.csv\t  XEL.csv\r\n",
      "BEN.csv    DLTR.csv   HAS.csv\t LNC.csv    ODFL.csv   STT.csv\t  XLEFF.csv\r\n",
      "BF-A.csv   DOV.csv    HBAN.csv\t LNT.csv    OKE.csv    STX.csv\t  XOM.csv\r\n",
      "BHI.csv    DPZ.csv    HBI.csv\t LOW.csv    OMC.csv    STZ-B.csv  XYL.csv\r\n",
      "BIIB.csv   DRE.csv    HCA.csv\t LRCX.csv   ORLY.csv   SWK.csv\t  YUM.csv\r\n",
      "BIO.csv    DRI.csv    HD.csv\t LUV.csv    OXY.csv    SWKS.csv   ZBH.csv\r\n",
      "BK.csv\t   DTE.csv    HES.csv\t LVS.csv    PAYX.csv   SYF.csv\t  ZION.csv\r\n",
      "BLK.csv    DVA.csv    HII.csv\t LYB.csv    PCAR.csv   SYK.csv\t  ZTS.csv\r\n",
      "BMRA.csv   DXCM.csv   HLT.csv\t LYV.csv    PEG.csv    TAP.csv\r\n",
      "BMY.csv    EA.csv     HOLX.csv\t MAA.csv    PEP.csv    T.csv\r\n",
      "BR.csv\t   EBAY.csv   HON.csv\t MAR.csv    PFE.csv    TCYSF.csv\r\n",
      "BRK-A.csv  ECL.csv    HPE.csv\t MCD.csv    PG.csv     TEL.csv\r\n"
     ]
    }
   ],
   "execution_count": 5
  },
  {
   "metadata": {
    "ExecuteTime": {
     "end_time": "2025-09-20T11:03:57.018121Z",
     "start_time": "2025-09-20T11:03:56.990492Z"
    }
   },
   "cell_type": "code",
   "source": [
    "from pathlib import Path\n",
    "\n",
    "sp500_path = Path(path + '/stock_market_data/sp500/csv')\n",
    "sp500_path"
   ],
   "id": "2300e6313659cd38",
   "outputs": [
    {
     "data": {
      "text/plain": [
       "PosixPath('/home/lipov/.cache/kagglehub/datasets/paultimothymooney/stock-market-data/versions/74/stock_market_data/sp500/csv')"
      ]
     },
     "execution_count": 6,
     "metadata": {},
     "output_type": "execute_result"
    }
   ],
   "execution_count": 6
  },
  {
   "metadata": {
    "ExecuteTime": {
     "end_time": "2025-09-20T11:03:57.190287Z",
     "start_time": "2025-09-20T11:03:57.117168Z"
    }
   },
   "cell_type": "code",
   "source": "df_goog = pd.read_csv(sp500_path / 'GOOG.csv', parse_dates=['Date'], index_col='Date', usecols=['Date', 'Adjusted Close'], dayfirst=True)",
   "id": "ac911eebbe1cac09",
   "outputs": [],
   "execution_count": 7
  },
  {
   "metadata": {
    "ExecuteTime": {
     "end_time": "2025-09-20T11:03:57.309365Z",
     "start_time": "2025-09-20T11:03:57.248881Z"
    }
   },
   "cell_type": "code",
   "source": "df_goog.head(3)",
   "id": "7e29463d1ec48ebd",
   "outputs": [
    {
     "data": {
      "text/plain": [
       "            Adjusted Close\n",
       "Date                      \n",
       "2004-08-19        2.499133\n",
       "2004-08-20        2.697639\n",
       "2004-08-23        2.724787"
      ],
      "text/html": [
       "<div>\n",
       "<style scoped>\n",
       "    .dataframe tbody tr th:only-of-type {\n",
       "        vertical-align: middle;\n",
       "    }\n",
       "\n",
       "    .dataframe tbody tr th {\n",
       "        vertical-align: top;\n",
       "    }\n",
       "\n",
       "    .dataframe thead th {\n",
       "        text-align: right;\n",
       "    }\n",
       "</style>\n",
       "<table border=\"1\" class=\"dataframe\">\n",
       "  <thead>\n",
       "    <tr style=\"text-align: right;\">\n",
       "      <th></th>\n",
       "      <th>Adjusted Close</th>\n",
       "    </tr>\n",
       "    <tr>\n",
       "      <th>Date</th>\n",
       "      <th></th>\n",
       "    </tr>\n",
       "  </thead>\n",
       "  <tbody>\n",
       "    <tr>\n",
       "      <th>2004-08-19</th>\n",
       "      <td>2.499133</td>\n",
       "    </tr>\n",
       "    <tr>\n",
       "      <th>2004-08-20</th>\n",
       "      <td>2.697639</td>\n",
       "    </tr>\n",
       "    <tr>\n",
       "      <th>2004-08-23</th>\n",
       "      <td>2.724787</td>\n",
       "    </tr>\n",
       "  </tbody>\n",
       "</table>\n",
       "</div>"
      ]
     },
     "execution_count": 8,
     "metadata": {},
     "output_type": "execute_result"
    }
   ],
   "execution_count": 8
  },
  {
   "metadata": {
    "ExecuteTime": {
     "end_time": "2025-09-20T11:03:57.542197Z",
     "start_time": "2025-09-20T11:03:57.500699Z"
    }
   },
   "cell_type": "code",
   "source": "df_goog['Adjusted Close'].pct_change()",
   "id": "9209c262e009502b",
   "outputs": [
    {
     "data": {
      "text/plain": [
       "Date\n",
       "2004-08-19         NaN\n",
       "2004-08-20    0.079430\n",
       "2004-08-23    0.010064\n",
       "2004-08-24   -0.041408\n",
       "2004-08-25    0.010775\n",
       "                ...   \n",
       "2022-12-06   -0.025633\n",
       "2022-12-07   -0.022197\n",
       "2022-12-08   -0.012612\n",
       "2022-12-09   -0.009367\n",
       "2022-12-12   -0.006393\n",
       "Name: Adjusted Close, Length: 4612, dtype: float64"
      ]
     },
     "execution_count": 9,
     "metadata": {},
     "output_type": "execute_result"
    }
   ],
   "execution_count": 9
  },
  {
   "metadata": {
    "ExecuteTime": {
     "end_time": "2025-09-20T11:03:58.327141Z",
     "start_time": "2025-09-20T11:03:58.310628Z"
    }
   },
   "cell_type": "code",
   "source": [
    "df_goog['log_return'] = np.log(df_goog[\"Adjusted Close\"] / df_goog[\"Adjusted Close\"].shift(1))\n",
    "df_goog.head(3)"
   ],
   "id": "e0615230c66aa3ad",
   "outputs": [
    {
     "data": {
      "text/plain": [
       "            Adjusted Close  log_return\n",
       "Date                                  \n",
       "2004-08-19        2.499133         NaN\n",
       "2004-08-20        2.697639    0.076433\n",
       "2004-08-23        2.724787    0.010013"
      ],
      "text/html": [
       "<div>\n",
       "<style scoped>\n",
       "    .dataframe tbody tr th:only-of-type {\n",
       "        vertical-align: middle;\n",
       "    }\n",
       "\n",
       "    .dataframe tbody tr th {\n",
       "        vertical-align: top;\n",
       "    }\n",
       "\n",
       "    .dataframe thead th {\n",
       "        text-align: right;\n",
       "    }\n",
       "</style>\n",
       "<table border=\"1\" class=\"dataframe\">\n",
       "  <thead>\n",
       "    <tr style=\"text-align: right;\">\n",
       "      <th></th>\n",
       "      <th>Adjusted Close</th>\n",
       "      <th>log_return</th>\n",
       "    </tr>\n",
       "    <tr>\n",
       "      <th>Date</th>\n",
       "      <th></th>\n",
       "      <th></th>\n",
       "    </tr>\n",
       "  </thead>\n",
       "  <tbody>\n",
       "    <tr>\n",
       "      <th>2004-08-19</th>\n",
       "      <td>2.499133</td>\n",
       "      <td>NaN</td>\n",
       "    </tr>\n",
       "    <tr>\n",
       "      <th>2004-08-20</th>\n",
       "      <td>2.697639</td>\n",
       "      <td>0.076433</td>\n",
       "    </tr>\n",
       "    <tr>\n",
       "      <th>2004-08-23</th>\n",
       "      <td>2.724787</td>\n",
       "      <td>0.010013</td>\n",
       "    </tr>\n",
       "  </tbody>\n",
       "</table>\n",
       "</div>"
      ]
     },
     "execution_count": 10,
     "metadata": {},
     "output_type": "execute_result"
    }
   ],
   "execution_count": 10
  },
  {
   "metadata": {
    "ExecuteTime": {
     "end_time": "2025-09-20T11:03:58.886329Z",
     "start_time": "2025-09-20T11:03:58.840608Z"
    }
   },
   "cell_type": "code",
   "source": "df_goog = df_goog.drop(columns=['Adjusted Close'])",
   "id": "938790cb65ab9ce",
   "outputs": [],
   "execution_count": 11
  },
  {
   "metadata": {
    "ExecuteTime": {
     "end_time": "2025-09-20T11:03:59.432470Z",
     "start_time": "2025-09-20T11:03:59.397906Z"
    }
   },
   "cell_type": "code",
   "source": [
    "df_goog = df_goog.dropna()\n",
    "df_goog.head(2)"
   ],
   "id": "d60bfa6e13aaf830",
   "outputs": [
    {
     "data": {
      "text/plain": [
       "            log_return\n",
       "Date                  \n",
       "2004-08-20    0.076433\n",
       "2004-08-23    0.010013"
      ],
      "text/html": [
       "<div>\n",
       "<style scoped>\n",
       "    .dataframe tbody tr th:only-of-type {\n",
       "        vertical-align: middle;\n",
       "    }\n",
       "\n",
       "    .dataframe tbody tr th {\n",
       "        vertical-align: top;\n",
       "    }\n",
       "\n",
       "    .dataframe thead th {\n",
       "        text-align: right;\n",
       "    }\n",
       "</style>\n",
       "<table border=\"1\" class=\"dataframe\">\n",
       "  <thead>\n",
       "    <tr style=\"text-align: right;\">\n",
       "      <th></th>\n",
       "      <th>log_return</th>\n",
       "    </tr>\n",
       "    <tr>\n",
       "      <th>Date</th>\n",
       "      <th></th>\n",
       "    </tr>\n",
       "  </thead>\n",
       "  <tbody>\n",
       "    <tr>\n",
       "      <th>2004-08-20</th>\n",
       "      <td>0.076433</td>\n",
       "    </tr>\n",
       "    <tr>\n",
       "      <th>2004-08-23</th>\n",
       "      <td>0.010013</td>\n",
       "    </tr>\n",
       "  </tbody>\n",
       "</table>\n",
       "</div>"
      ]
     },
     "execution_count": 12,
     "metadata": {},
     "output_type": "execute_result"
    }
   ],
   "execution_count": 12
  },
  {
   "metadata": {
    "ExecuteTime": {
     "end_time": "2025-09-20T11:04:51.667022Z",
     "start_time": "2025-09-20T11:04:51.651797Z"
    }
   },
   "cell_type": "code",
   "source": "df_goog.to_parquet(PATH_RAW / 'goog_return.parquet', index=True)",
   "id": "14d33bffc9c25d15",
   "outputs": [],
   "execution_count": 15
  },
  {
   "metadata": {
    "ExecuteTime": {
     "end_time": "2025-09-20T11:06:03.518831Z",
     "start_time": "2025-09-20T11:06:03.512179Z"
    }
   },
   "cell_type": "code",
   "source": "csv_files = list(sp500_path.glob('*.csv'))",
   "id": "3e54895947794b61",
   "outputs": [],
   "execution_count": 16
  },
  {
   "metadata": {
    "ExecuteTime": {
     "end_time": "2025-09-20T11:06:22.433829Z",
     "start_time": "2025-09-20T11:06:22.429140Z"
    }
   },
   "cell_type": "code",
   "source": "all_returns = []",
   "id": "261e437c8189816e",
   "outputs": [],
   "execution_count": 17
  },
  {
   "metadata": {
    "ExecuteTime": {
     "end_time": "2025-09-20T11:10:45.480559Z",
     "start_time": "2025-09-20T11:10:29.248401Z"
    }
   },
   "cell_type": "code",
   "source": [
    "for file in csv_files:\n",
    "    ticker = file.stem\n",
    "\n",
    "    df = pd.read_csv(\n",
    "        file,\n",
    "        usecols=['Date', 'Adjusted Close'],\n",
    "        parse_dates=['Date'],\n",
    "        index_col='Date',\n",
    "        dayfirst=True\n",
    "    ).sort_index()\n",
    "\n",
    "    df[ticker] = np.log(df['Adjusted Close'] / df['Adjusted Close'].shift(1))\n",
    "\n",
    "    df = df[ticker]\n",
    "\n",
    "    all_returns.append(df)"
   ],
   "id": "30736c41f948880e",
   "outputs": [
    {
     "name": "stderr",
     "output_type": "stream",
     "text": [
      "/home/lipov/projects/linear_regression/.venv/lib/python3.13/site-packages/pandas/core/arraylike.py:399: RuntimeWarning: invalid value encountered in log\n",
      "  result = getattr(ufunc, method)(*inputs, **kwargs)\n",
      "/home/lipov/projects/linear_regression/.venv/lib/python3.13/site-packages/pandas/core/arraylike.py:399: RuntimeWarning: invalid value encountered in log\n",
      "  result = getattr(ufunc, method)(*inputs, **kwargs)\n"
     ]
    }
   ],
   "execution_count": 18
  },
  {
   "metadata": {
    "ExecuteTime": {
     "end_time": "2025-09-20T11:12:20.639667Z",
     "start_time": "2025-09-20T11:12:18.754199Z"
    }
   },
   "cell_type": "code",
   "source": [
    "df_returns = pd.concat(all_returns, axis=1).dropna(how='all')\n",
    "df_returns.shape"
   ],
   "id": "a584fb978b4e2203",
   "outputs": [
    {
     "data": {
      "text/plain": [
       "(13355, 409)"
      ]
     },
     "execution_count": 19,
     "metadata": {},
     "output_type": "execute_result"
    }
   ],
   "execution_count": 19
  },
  {
   "metadata": {},
   "cell_type": "code",
   "outputs": [],
   "execution_count": null,
   "source": "",
   "id": "52b11ca485395168"
  }
 ],
 "metadata": {
  "kernelspec": {
   "display_name": "Python 3",
   "language": "python",
   "name": "python3"
  },
  "language_info": {
   "codemirror_mode": {
    "name": "ipython",
    "version": 2
   },
   "file_extension": ".py",
   "mimetype": "text/x-python",
   "name": "python",
   "nbconvert_exporter": "python",
   "pygments_lexer": "ipython2",
   "version": "2.7.6"
  }
 },
 "nbformat": 4,
 "nbformat_minor": 5
}
